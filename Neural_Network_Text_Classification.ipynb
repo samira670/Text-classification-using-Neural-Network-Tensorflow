{
  "nbformat": 4,
  "nbformat_minor": 0,
  "metadata": {
    "colab": {
      "provenance": []
    },
    "kernelspec": {
      "name": "python3",
      "display_name": "Python 3"
    },
    "language_info": {
      "name": "python"
    }
  },
  "cells": [
    {
      "cell_type": "code",
      "execution_count": 1,
      "metadata": {
        "colab": {
          "base_uri": "https://localhost:8080/"
        },
        "id": "WflMgHjqPMhi",
        "outputId": "a7494c41-3504-4106-9fee-31631affc452"
      },
      "outputs": [
        {
          "output_type": "stream",
          "name": "stdout",
          "text": [
            "Looking in indexes: https://pypi.org/simple, https://us-python.pkg.dev/colab-wheels/public/simple/\n",
            "Collecting https://s3-us-west-2.amazonaws.com/ai2-s2-scispacy/releases/v0.4.0/en_ner_bionlp13cg_md-0.4.0.tar.gz\n",
            "  Downloading https://s3-us-west-2.amazonaws.com/ai2-s2-scispacy/releases/v0.4.0/en_ner_bionlp13cg_md-0.4.0.tar.gz (125.1 MB)\n",
            "\u001b[K     |████████████████████████████████| 125.1 MB 43 kB/s \n",
            "\u001b[?25hCollecting spacy<3.1.0,>=3.0.1\n",
            "  Downloading spacy-3.0.8-cp38-cp38-manylinux_2_17_x86_64.manylinux2014_x86_64.whl (6.0 MB)\n",
            "\u001b[K     |████████████████████████████████| 6.0 MB 4.6 MB/s \n",
            "\u001b[?25hRequirement already satisfied: numpy>=1.15.0 in /usr/local/lib/python3.8/dist-packages (from spacy<3.1.0,>=3.0.1->en-ner-bionlp13cg-md==0.4.0) (1.21.6)\n",
            "Collecting pydantic!=1.8,!=1.8.1,<1.9.0,>=1.7.4\n",
            "  Downloading pydantic-1.8.2-cp38-cp38-manylinux2014_x86_64.whl (13.7 MB)\n",
            "\u001b[K     |████████████████████████████████| 13.7 MB 29 kB/s \n",
            "\u001b[?25hRequirement already satisfied: preshed<3.1.0,>=3.0.2 in /usr/local/lib/python3.8/dist-packages (from spacy<3.1.0,>=3.0.1->en-ner-bionlp13cg-md==0.4.0) (3.0.8)\n",
            "Requirement already satisfied: requests<3.0.0,>=2.13.0 in /usr/local/lib/python3.8/dist-packages (from spacy<3.1.0,>=3.0.1->en-ner-bionlp13cg-md==0.4.0) (2.23.0)\n",
            "Requirement already satisfied: blis<0.8.0,>=0.4.0 in /usr/local/lib/python3.8/dist-packages (from spacy<3.1.0,>=3.0.1->en-ner-bionlp13cg-md==0.4.0) (0.7.9)\n",
            "Requirement already satisfied: wasabi<1.1.0,>=0.8.1 in /usr/local/lib/python3.8/dist-packages (from spacy<3.1.0,>=3.0.1->en-ner-bionlp13cg-md==0.4.0) (0.10.1)\n",
            "Collecting typer<0.4.0,>=0.3.0\n",
            "  Downloading typer-0.3.2-py3-none-any.whl (21 kB)\n",
            "Requirement already satisfied: pathy>=0.3.5 in /usr/local/lib/python3.8/dist-packages (from spacy<3.1.0,>=3.0.1->en-ner-bionlp13cg-md==0.4.0) (0.10.0)\n",
            "Requirement already satisfied: tqdm<5.0.0,>=4.38.0 in /usr/local/lib/python3.8/dist-packages (from spacy<3.1.0,>=3.0.1->en-ner-bionlp13cg-md==0.4.0) (4.64.1)\n",
            "Requirement already satisfied: spacy-legacy<3.1.0,>=3.0.5 in /usr/local/lib/python3.8/dist-packages (from spacy<3.1.0,>=3.0.1->en-ner-bionlp13cg-md==0.4.0) (3.0.10)\n",
            "Requirement already satisfied: setuptools in /usr/local/lib/python3.8/dist-packages (from spacy<3.1.0,>=3.0.1->en-ner-bionlp13cg-md==0.4.0) (57.4.0)\n",
            "Requirement already satisfied: murmurhash<1.1.0,>=0.28.0 in /usr/local/lib/python3.8/dist-packages (from spacy<3.1.0,>=3.0.1->en-ner-bionlp13cg-md==0.4.0) (1.0.9)\n",
            "Requirement already satisfied: packaging>=20.0 in /usr/local/lib/python3.8/dist-packages (from spacy<3.1.0,>=3.0.1->en-ner-bionlp13cg-md==0.4.0) (21.3)\n",
            "Requirement already satisfied: srsly<3.0.0,>=2.4.1 in /usr/local/lib/python3.8/dist-packages (from spacy<3.1.0,>=3.0.1->en-ner-bionlp13cg-md==0.4.0) (2.4.5)\n",
            "Collecting thinc<8.1.0,>=8.0.3\n",
            "  Downloading thinc-8.0.17-cp38-cp38-manylinux_2_17_x86_64.manylinux2014_x86_64.whl (671 kB)\n",
            "\u001b[K     |████████████████████████████████| 671 kB 56.3 MB/s \n",
            "\u001b[?25hRequirement already satisfied: cymem<2.1.0,>=2.0.2 in /usr/local/lib/python3.8/dist-packages (from spacy<3.1.0,>=3.0.1->en-ner-bionlp13cg-md==0.4.0) (2.0.7)\n",
            "Requirement already satisfied: catalogue<2.1.0,>=2.0.4 in /usr/local/lib/python3.8/dist-packages (from spacy<3.1.0,>=3.0.1->en-ner-bionlp13cg-md==0.4.0) (2.0.8)\n",
            "Requirement already satisfied: jinja2 in /usr/local/lib/python3.8/dist-packages (from spacy<3.1.0,>=3.0.1->en-ner-bionlp13cg-md==0.4.0) (2.11.3)\n",
            "Requirement already satisfied: pyparsing!=3.0.5,>=2.0.2 in /usr/local/lib/python3.8/dist-packages (from packaging>=20.0->spacy<3.1.0,>=3.0.1->en-ner-bionlp13cg-md==0.4.0) (3.0.9)\n",
            "Requirement already satisfied: smart-open<6.0.0,>=5.2.1 in /usr/local/lib/python3.8/dist-packages (from pathy>=0.3.5->spacy<3.1.0,>=3.0.1->en-ner-bionlp13cg-md==0.4.0) (5.2.1)\n",
            "Requirement already satisfied: typing-extensions>=3.7.4.3 in /usr/local/lib/python3.8/dist-packages (from pydantic!=1.8,!=1.8.1,<1.9.0,>=1.7.4->spacy<3.1.0,>=3.0.1->en-ner-bionlp13cg-md==0.4.0) (4.4.0)\n",
            "Requirement already satisfied: urllib3!=1.25.0,!=1.25.1,<1.26,>=1.21.1 in /usr/local/lib/python3.8/dist-packages (from requests<3.0.0,>=2.13.0->spacy<3.1.0,>=3.0.1->en-ner-bionlp13cg-md==0.4.0) (1.24.3)\n",
            "Requirement already satisfied: idna<3,>=2.5 in /usr/local/lib/python3.8/dist-packages (from requests<3.0.0,>=2.13.0->spacy<3.1.0,>=3.0.1->en-ner-bionlp13cg-md==0.4.0) (2.10)\n",
            "Requirement already satisfied: certifi>=2017.4.17 in /usr/local/lib/python3.8/dist-packages (from requests<3.0.0,>=2.13.0->spacy<3.1.0,>=3.0.1->en-ner-bionlp13cg-md==0.4.0) (2022.9.24)\n",
            "Requirement already satisfied: chardet<4,>=3.0.2 in /usr/local/lib/python3.8/dist-packages (from requests<3.0.0,>=2.13.0->spacy<3.1.0,>=3.0.1->en-ner-bionlp13cg-md==0.4.0) (3.0.4)\n",
            "Requirement already satisfied: click<7.2.0,>=7.1.1 in /usr/local/lib/python3.8/dist-packages (from typer<0.4.0,>=0.3.0->spacy<3.1.0,>=3.0.1->en-ner-bionlp13cg-md==0.4.0) (7.1.2)\n",
            "Requirement already satisfied: MarkupSafe>=0.23 in /usr/local/lib/python3.8/dist-packages (from jinja2->spacy<3.1.0,>=3.0.1->en-ner-bionlp13cg-md==0.4.0) (2.0.1)\n",
            "Building wheels for collected packages: en-ner-bionlp13cg-md\n",
            "  Building wheel for en-ner-bionlp13cg-md (setup.py) ... \u001b[?25l\u001b[?25hdone\n",
            "  Created wheel for en-ner-bionlp13cg-md: filename=en_ner_bionlp13cg_md-0.4.0-py3-none-any.whl size=125679333 sha256=7db4247e1610af1c0d69f18153abfb5d69e571ff9cabf90aab740095ce79f76c\n",
            "  Stored in directory: /root/.cache/pip/wheels/14/df/b7/7c9fcdc6696e8a2774b70e4729f18403285604c98718c584ec\n",
            "Successfully built en-ner-bionlp13cg-md\n",
            "Installing collected packages: typer, pydantic, thinc, spacy, en-ner-bionlp13cg-md\n",
            "  Attempting uninstall: typer\n",
            "    Found existing installation: typer 0.7.0\n",
            "    Uninstalling typer-0.7.0:\n",
            "      Successfully uninstalled typer-0.7.0\n",
            "  Attempting uninstall: pydantic\n",
            "    Found existing installation: pydantic 1.10.2\n",
            "    Uninstalling pydantic-1.10.2:\n",
            "      Successfully uninstalled pydantic-1.10.2\n",
            "  Attempting uninstall: thinc\n",
            "    Found existing installation: thinc 8.1.5\n",
            "    Uninstalling thinc-8.1.5:\n",
            "      Successfully uninstalled thinc-8.1.5\n",
            "  Attempting uninstall: spacy\n",
            "    Found existing installation: spacy 3.4.3\n",
            "    Uninstalling spacy-3.4.3:\n",
            "      Successfully uninstalled spacy-3.4.3\n",
            "\u001b[31mERROR: pip's dependency resolver does not currently take into account all the packages that are installed. This behaviour is the source of the following dependency conflicts.\n",
            "en-core-web-sm 3.4.1 requires spacy<3.5.0,>=3.4.0, but you have spacy 3.0.8 which is incompatible.\u001b[0m\n",
            "Successfully installed en-ner-bionlp13cg-md-0.4.0 pydantic-1.8.2 spacy-3.0.8 thinc-8.0.17 typer-0.3.2\n",
            "Looking in indexes: https://pypi.org/simple, https://us-python.pkg.dev/colab-wheels/public/simple/\n",
            "Requirement already satisfied: en_ner_bionlp13cg_md in /usr/local/lib/python3.8/dist-packages (0.4.0)\n",
            "Requirement already satisfied: spacy<3.1.0,>=3.0.1 in /usr/local/lib/python3.8/dist-packages (from en_ner_bionlp13cg_md) (3.0.8)\n",
            "Requirement already satisfied: jinja2 in /usr/local/lib/python3.8/dist-packages (from spacy<3.1.0,>=3.0.1->en_ner_bionlp13cg_md) (2.11.3)\n",
            "Requirement already satisfied: pydantic!=1.8,!=1.8.1,<1.9.0,>=1.7.4 in /usr/local/lib/python3.8/dist-packages (from spacy<3.1.0,>=3.0.1->en_ner_bionlp13cg_md) (1.8.2)\n",
            "Requirement already satisfied: spacy-legacy<3.1.0,>=3.0.5 in /usr/local/lib/python3.8/dist-packages (from spacy<3.1.0,>=3.0.1->en_ner_bionlp13cg_md) (3.0.10)\n",
            "Requirement already satisfied: murmurhash<1.1.0,>=0.28.0 in /usr/local/lib/python3.8/dist-packages (from spacy<3.1.0,>=3.0.1->en_ner_bionlp13cg_md) (1.0.9)\n",
            "Requirement already satisfied: typer<0.4.0,>=0.3.0 in /usr/local/lib/python3.8/dist-packages (from spacy<3.1.0,>=3.0.1->en_ner_bionlp13cg_md) (0.3.2)\n",
            "Requirement already satisfied: catalogue<2.1.0,>=2.0.4 in /usr/local/lib/python3.8/dist-packages (from spacy<3.1.0,>=3.0.1->en_ner_bionlp13cg_md) (2.0.8)\n",
            "Requirement already satisfied: srsly<3.0.0,>=2.4.1 in /usr/local/lib/python3.8/dist-packages (from spacy<3.1.0,>=3.0.1->en_ner_bionlp13cg_md) (2.4.5)\n",
            "Requirement already satisfied: setuptools in /usr/local/lib/python3.8/dist-packages (from spacy<3.1.0,>=3.0.1->en_ner_bionlp13cg_md) (57.4.0)\n",
            "Requirement already satisfied: packaging>=20.0 in /usr/local/lib/python3.8/dist-packages (from spacy<3.1.0,>=3.0.1->en_ner_bionlp13cg_md) (21.3)\n",
            "Requirement already satisfied: blis<0.8.0,>=0.4.0 in /usr/local/lib/python3.8/dist-packages (from spacy<3.1.0,>=3.0.1->en_ner_bionlp13cg_md) (0.7.9)\n",
            "Requirement already satisfied: numpy>=1.15.0 in /usr/local/lib/python3.8/dist-packages (from spacy<3.1.0,>=3.0.1->en_ner_bionlp13cg_md) (1.21.6)\n",
            "Requirement already satisfied: requests<3.0.0,>=2.13.0 in /usr/local/lib/python3.8/dist-packages (from spacy<3.1.0,>=3.0.1->en_ner_bionlp13cg_md) (2.23.0)\n",
            "Requirement already satisfied: preshed<3.1.0,>=3.0.2 in /usr/local/lib/python3.8/dist-packages (from spacy<3.1.0,>=3.0.1->en_ner_bionlp13cg_md) (3.0.8)\n",
            "Requirement already satisfied: pathy>=0.3.5 in /usr/local/lib/python3.8/dist-packages (from spacy<3.1.0,>=3.0.1->en_ner_bionlp13cg_md) (0.10.0)\n",
            "Requirement already satisfied: wasabi<1.1.0,>=0.8.1 in /usr/local/lib/python3.8/dist-packages (from spacy<3.1.0,>=3.0.1->en_ner_bionlp13cg_md) (0.10.1)\n",
            "Requirement already satisfied: cymem<2.1.0,>=2.0.2 in /usr/local/lib/python3.8/dist-packages (from spacy<3.1.0,>=3.0.1->en_ner_bionlp13cg_md) (2.0.7)\n",
            "Requirement already satisfied: tqdm<5.0.0,>=4.38.0 in /usr/local/lib/python3.8/dist-packages (from spacy<3.1.0,>=3.0.1->en_ner_bionlp13cg_md) (4.64.1)\n",
            "Requirement already satisfied: thinc<8.1.0,>=8.0.3 in /usr/local/lib/python3.8/dist-packages (from spacy<3.1.0,>=3.0.1->en_ner_bionlp13cg_md) (8.0.17)\n",
            "Requirement already satisfied: pyparsing!=3.0.5,>=2.0.2 in /usr/local/lib/python3.8/dist-packages (from packaging>=20.0->spacy<3.1.0,>=3.0.1->en_ner_bionlp13cg_md) (3.0.9)\n",
            "Requirement already satisfied: smart-open<6.0.0,>=5.2.1 in /usr/local/lib/python3.8/dist-packages (from pathy>=0.3.5->spacy<3.1.0,>=3.0.1->en_ner_bionlp13cg_md) (5.2.1)\n",
            "Requirement already satisfied: typing-extensions>=3.7.4.3 in /usr/local/lib/python3.8/dist-packages (from pydantic!=1.8,!=1.8.1,<1.9.0,>=1.7.4->spacy<3.1.0,>=3.0.1->en_ner_bionlp13cg_md) (4.4.0)\n",
            "Requirement already satisfied: idna<3,>=2.5 in /usr/local/lib/python3.8/dist-packages (from requests<3.0.0,>=2.13.0->spacy<3.1.0,>=3.0.1->en_ner_bionlp13cg_md) (2.10)\n",
            "Requirement already satisfied: chardet<4,>=3.0.2 in /usr/local/lib/python3.8/dist-packages (from requests<3.0.0,>=2.13.0->spacy<3.1.0,>=3.0.1->en_ner_bionlp13cg_md) (3.0.4)\n",
            "Requirement already satisfied: urllib3!=1.25.0,!=1.25.1,<1.26,>=1.21.1 in /usr/local/lib/python3.8/dist-packages (from requests<3.0.0,>=2.13.0->spacy<3.1.0,>=3.0.1->en_ner_bionlp13cg_md) (1.24.3)\n",
            "Requirement already satisfied: certifi>=2017.4.17 in /usr/local/lib/python3.8/dist-packages (from requests<3.0.0,>=2.13.0->spacy<3.1.0,>=3.0.1->en_ner_bionlp13cg_md) (2022.9.24)\n",
            "Requirement already satisfied: click<7.2.0,>=7.1.1 in /usr/local/lib/python3.8/dist-packages (from typer<0.4.0,>=0.3.0->spacy<3.1.0,>=3.0.1->en_ner_bionlp13cg_md) (7.1.2)\n",
            "Requirement already satisfied: MarkupSafe>=0.23 in /usr/local/lib/python3.8/dist-packages (from jinja2->spacy<3.1.0,>=3.0.1->en_ner_bionlp13cg_md) (2.0.1)\n"
          ]
        },
        {
          "output_type": "stream",
          "name": "stderr",
          "text": [
            "[nltk_data] Downloading package stopwords to /root/nltk_data...\n",
            "[nltk_data]   Unzipping corpora/stopwords.zip.\n"
          ]
        }
      ],
      "source": [
        "!pip install https://s3-us-west-2.amazonaws.com/ai2-s2-scispacy/releases/v0.4.0/en_ner_bionlp13cg_md-0.4.0.tar.gz\n",
        "! pip install en_ner_bionlp13cg_md\n",
        "\n",
        "\n",
        "import matplotlib.pyplot as plt\n",
        "import os\n",
        "import re\n",
        "import shutil\n",
        "import string\n",
        "import tensorflow as tf\n",
        "\n",
        "import tensorflow_hub as hub\n",
        "\n",
        "from tensorflow.keras import layers\n",
        "from tensorflow.keras import losses\n",
        "from tensorflow.keras import regularizers\n",
        "\n",
        "from collections import Counter\n",
        "\n",
        "\n",
        "import pandas as pd\n",
        "import numpy as np\n",
        "\n",
        "from sklearn.preprocessing import LabelEncoder\n",
        "from sklearn.model_selection import train_test_split\n",
        "from sklearn.metrics import classification_report\n",
        "\n",
        "import pydot\n",
        "from sklearn.feature_extraction.text import TfidfVectorizer\n",
        "\n",
        "from tensorflow.keras import layers\n",
        "from tensorflow.keras import losses\n",
        "from tensorflow.keras import regularizers\n",
        "\n",
        "\n",
        "from sklearn.decomposition import PCA\n",
        "\n",
        "from collections import Counter\n",
        "\n",
        "\n",
        "from nltk.tokenize import word_tokenize\n",
        "from nltk.tokenize import sent_tokenize\n",
        "from nltk.stem import WordNetLemmatizer \n",
        "\n",
        "\n",
        "\n",
        "from sklearn.preprocessing import LabelEncoder\n",
        "from sklearn.model_selection import train_test_split\n",
        "\n",
        "import matplotlib.pyplot as plt\n",
        "\n",
        "import nltk\n",
        "nltk.download('stopwords')\n",
        "from nltk.corpus import stopwords\n",
        "\n",
        "import pydot"
      ]
    },
    {
      "cell_type": "code",
      "source": [
        "df = pd.read_csv(\"mtsamples.csv\")\n",
        "df.head()"
      ],
      "metadata": {
        "colab": {
          "base_uri": "https://localhost:8080/",
          "height": 441
        },
        "id": "zCy4MHamPxAR",
        "outputId": "e9021996-7348-49e7-b767-24852673f82b"
      },
      "execution_count": 2,
      "outputs": [
        {
          "output_type": "execute_result",
          "data": {
            "text/plain": [
              "   Unnamed: 0                                        description  \\\n",
              "0           0   A 23-year-old white female presents with comp...   \n",
              "1           1           Consult for laparoscopic gastric bypass.   \n",
              "2           2           Consult for laparoscopic gastric bypass.   \n",
              "3           3                             2-D M-Mode. Doppler.     \n",
              "4           4                                 2-D Echocardiogram   \n",
              "\n",
              "             medical_specialty                                sample_name  \\\n",
              "0         Allergy / Immunology                         Allergic Rhinitis    \n",
              "1                   Bariatrics   Laparoscopic Gastric Bypass Consult - 2    \n",
              "2                   Bariatrics   Laparoscopic Gastric Bypass Consult - 1    \n",
              "3   Cardiovascular / Pulmonary                    2-D Echocardiogram - 1    \n",
              "4   Cardiovascular / Pulmonary                    2-D Echocardiogram - 2    \n",
              "\n",
              "                                       transcription  \\\n",
              "0  SUBJECTIVE:,  This 23-year-old white female pr...   \n",
              "1  PAST MEDICAL HISTORY:, He has difficulty climb...   \n",
              "2  HISTORY OF PRESENT ILLNESS: , I have seen ABC ...   \n",
              "3  2-D M-MODE: , ,1.  Left atrial enlargement wit...   \n",
              "4  1.  The left ventricular cavity size and wall ...   \n",
              "\n",
              "                                            keywords  \n",
              "0  allergy / immunology, allergic rhinitis, aller...  \n",
              "1  bariatrics, laparoscopic gastric bypass, weigh...  \n",
              "2  bariatrics, laparoscopic gastric bypass, heart...  \n",
              "3  cardiovascular / pulmonary, 2-d m-mode, dopple...  \n",
              "4  cardiovascular / pulmonary, 2-d, doppler, echo...  "
            ],
            "text/html": [
              "\n",
              "  <div id=\"df-5b700fbb-1a49-4b46-9cd0-b4595f12e1c2\">\n",
              "    <div class=\"colab-df-container\">\n",
              "      <div>\n",
              "<style scoped>\n",
              "    .dataframe tbody tr th:only-of-type {\n",
              "        vertical-align: middle;\n",
              "    }\n",
              "\n",
              "    .dataframe tbody tr th {\n",
              "        vertical-align: top;\n",
              "    }\n",
              "\n",
              "    .dataframe thead th {\n",
              "        text-align: right;\n",
              "    }\n",
              "</style>\n",
              "<table border=\"1\" class=\"dataframe\">\n",
              "  <thead>\n",
              "    <tr style=\"text-align: right;\">\n",
              "      <th></th>\n",
              "      <th>Unnamed: 0</th>\n",
              "      <th>description</th>\n",
              "      <th>medical_specialty</th>\n",
              "      <th>sample_name</th>\n",
              "      <th>transcription</th>\n",
              "      <th>keywords</th>\n",
              "    </tr>\n",
              "  </thead>\n",
              "  <tbody>\n",
              "    <tr>\n",
              "      <th>0</th>\n",
              "      <td>0</td>\n",
              "      <td>A 23-year-old white female presents with comp...</td>\n",
              "      <td>Allergy / Immunology</td>\n",
              "      <td>Allergic Rhinitis</td>\n",
              "      <td>SUBJECTIVE:,  This 23-year-old white female pr...</td>\n",
              "      <td>allergy / immunology, allergic rhinitis, aller...</td>\n",
              "    </tr>\n",
              "    <tr>\n",
              "      <th>1</th>\n",
              "      <td>1</td>\n",
              "      <td>Consult for laparoscopic gastric bypass.</td>\n",
              "      <td>Bariatrics</td>\n",
              "      <td>Laparoscopic Gastric Bypass Consult - 2</td>\n",
              "      <td>PAST MEDICAL HISTORY:, He has difficulty climb...</td>\n",
              "      <td>bariatrics, laparoscopic gastric bypass, weigh...</td>\n",
              "    </tr>\n",
              "    <tr>\n",
              "      <th>2</th>\n",
              "      <td>2</td>\n",
              "      <td>Consult for laparoscopic gastric bypass.</td>\n",
              "      <td>Bariatrics</td>\n",
              "      <td>Laparoscopic Gastric Bypass Consult - 1</td>\n",
              "      <td>HISTORY OF PRESENT ILLNESS: , I have seen ABC ...</td>\n",
              "      <td>bariatrics, laparoscopic gastric bypass, heart...</td>\n",
              "    </tr>\n",
              "    <tr>\n",
              "      <th>3</th>\n",
              "      <td>3</td>\n",
              "      <td>2-D M-Mode. Doppler.</td>\n",
              "      <td>Cardiovascular / Pulmonary</td>\n",
              "      <td>2-D Echocardiogram - 1</td>\n",
              "      <td>2-D M-MODE: , ,1.  Left atrial enlargement wit...</td>\n",
              "      <td>cardiovascular / pulmonary, 2-d m-mode, dopple...</td>\n",
              "    </tr>\n",
              "    <tr>\n",
              "      <th>4</th>\n",
              "      <td>4</td>\n",
              "      <td>2-D Echocardiogram</td>\n",
              "      <td>Cardiovascular / Pulmonary</td>\n",
              "      <td>2-D Echocardiogram - 2</td>\n",
              "      <td>1.  The left ventricular cavity size and wall ...</td>\n",
              "      <td>cardiovascular / pulmonary, 2-d, doppler, echo...</td>\n",
              "    </tr>\n",
              "  </tbody>\n",
              "</table>\n",
              "</div>\n",
              "      <button class=\"colab-df-convert\" onclick=\"convertToInteractive('df-5b700fbb-1a49-4b46-9cd0-b4595f12e1c2')\"\n",
              "              title=\"Convert this dataframe to an interactive table.\"\n",
              "              style=\"display:none;\">\n",
              "        \n",
              "  <svg xmlns=\"http://www.w3.org/2000/svg\" height=\"24px\"viewBox=\"0 0 24 24\"\n",
              "       width=\"24px\">\n",
              "    <path d=\"M0 0h24v24H0V0z\" fill=\"none\"/>\n",
              "    <path d=\"M18.56 5.44l.94 2.06.94-2.06 2.06-.94-2.06-.94-.94-2.06-.94 2.06-2.06.94zm-11 1L8.5 8.5l.94-2.06 2.06-.94-2.06-.94L8.5 2.5l-.94 2.06-2.06.94zm10 10l.94 2.06.94-2.06 2.06-.94-2.06-.94-.94-2.06-.94 2.06-2.06.94z\"/><path d=\"M17.41 7.96l-1.37-1.37c-.4-.4-.92-.59-1.43-.59-.52 0-1.04.2-1.43.59L10.3 9.45l-7.72 7.72c-.78.78-.78 2.05 0 2.83L4 21.41c.39.39.9.59 1.41.59.51 0 1.02-.2 1.41-.59l7.78-7.78 2.81-2.81c.8-.78.8-2.07 0-2.86zM5.41 20L4 18.59l7.72-7.72 1.47 1.35L5.41 20z\"/>\n",
              "  </svg>\n",
              "      </button>\n",
              "      \n",
              "  <style>\n",
              "    .colab-df-container {\n",
              "      display:flex;\n",
              "      flex-wrap:wrap;\n",
              "      gap: 12px;\n",
              "    }\n",
              "\n",
              "    .colab-df-convert {\n",
              "      background-color: #E8F0FE;\n",
              "      border: none;\n",
              "      border-radius: 50%;\n",
              "      cursor: pointer;\n",
              "      display: none;\n",
              "      fill: #1967D2;\n",
              "      height: 32px;\n",
              "      padding: 0 0 0 0;\n",
              "      width: 32px;\n",
              "    }\n",
              "\n",
              "    .colab-df-convert:hover {\n",
              "      background-color: #E2EBFA;\n",
              "      box-shadow: 0px 1px 2px rgba(60, 64, 67, 0.3), 0px 1px 3px 1px rgba(60, 64, 67, 0.15);\n",
              "      fill: #174EA6;\n",
              "    }\n",
              "\n",
              "    [theme=dark] .colab-df-convert {\n",
              "      background-color: #3B4455;\n",
              "      fill: #D2E3FC;\n",
              "    }\n",
              "\n",
              "    [theme=dark] .colab-df-convert:hover {\n",
              "      background-color: #434B5C;\n",
              "      box-shadow: 0px 1px 3px 1px rgba(0, 0, 0, 0.15);\n",
              "      filter: drop-shadow(0px 1px 2px rgba(0, 0, 0, 0.3));\n",
              "      fill: #FFFFFF;\n",
              "    }\n",
              "  </style>\n",
              "\n",
              "      <script>\n",
              "        const buttonEl =\n",
              "          document.querySelector('#df-5b700fbb-1a49-4b46-9cd0-b4595f12e1c2 button.colab-df-convert');\n",
              "        buttonEl.style.display =\n",
              "          google.colab.kernel.accessAllowed ? 'block' : 'none';\n",
              "\n",
              "        async function convertToInteractive(key) {\n",
              "          const element = document.querySelector('#df-5b700fbb-1a49-4b46-9cd0-b4595f12e1c2');\n",
              "          const dataTable =\n",
              "            await google.colab.kernel.invokeFunction('convertToInteractive',\n",
              "                                                     [key], {});\n",
              "          if (!dataTable) return;\n",
              "\n",
              "          const docLinkHtml = 'Like what you see? Visit the ' +\n",
              "            '<a target=\"_blank\" href=https://colab.research.google.com/notebooks/data_table.ipynb>data table notebook</a>'\n",
              "            + ' to learn more about interactive tables.';\n",
              "          element.innerHTML = '';\n",
              "          dataTable['output_type'] = 'display_data';\n",
              "          await google.colab.output.renderOutput(dataTable, element);\n",
              "          const docLink = document.createElement('div');\n",
              "          docLink.innerHTML = docLinkHtml;\n",
              "          element.appendChild(docLink);\n",
              "        }\n",
              "      </script>\n",
              "    </div>\n",
              "  </div>\n",
              "  "
            ]
          },
          "metadata": {},
          "execution_count": 2
        }
      ]
    },
    {
      "cell_type": "code",
      "source": [
        "df=df[['transcription','medical_specialty']]\n",
        "df.head()"
      ],
      "metadata": {
        "colab": {
          "base_uri": "https://localhost:8080/",
          "height": 206
        },
        "id": "rHzJDVzAP7Rp",
        "outputId": "2e132d72-f67e-47fd-a021-3cf6c615ee6a"
      },
      "execution_count": 3,
      "outputs": [
        {
          "output_type": "execute_result",
          "data": {
            "text/plain": [
              "                                       transcription  \\\n",
              "0  SUBJECTIVE:,  This 23-year-old white female pr...   \n",
              "1  PAST MEDICAL HISTORY:, He has difficulty climb...   \n",
              "2  HISTORY OF PRESENT ILLNESS: , I have seen ABC ...   \n",
              "3  2-D M-MODE: , ,1.  Left atrial enlargement wit...   \n",
              "4  1.  The left ventricular cavity size and wall ...   \n",
              "\n",
              "             medical_specialty  \n",
              "0         Allergy / Immunology  \n",
              "1                   Bariatrics  \n",
              "2                   Bariatrics  \n",
              "3   Cardiovascular / Pulmonary  \n",
              "4   Cardiovascular / Pulmonary  "
            ],
            "text/html": [
              "\n",
              "  <div id=\"df-50f09445-3f15-49f8-b933-ad0f59ff2e9a\">\n",
              "    <div class=\"colab-df-container\">\n",
              "      <div>\n",
              "<style scoped>\n",
              "    .dataframe tbody tr th:only-of-type {\n",
              "        vertical-align: middle;\n",
              "    }\n",
              "\n",
              "    .dataframe tbody tr th {\n",
              "        vertical-align: top;\n",
              "    }\n",
              "\n",
              "    .dataframe thead th {\n",
              "        text-align: right;\n",
              "    }\n",
              "</style>\n",
              "<table border=\"1\" class=\"dataframe\">\n",
              "  <thead>\n",
              "    <tr style=\"text-align: right;\">\n",
              "      <th></th>\n",
              "      <th>transcription</th>\n",
              "      <th>medical_specialty</th>\n",
              "    </tr>\n",
              "  </thead>\n",
              "  <tbody>\n",
              "    <tr>\n",
              "      <th>0</th>\n",
              "      <td>SUBJECTIVE:,  This 23-year-old white female pr...</td>\n",
              "      <td>Allergy / Immunology</td>\n",
              "    </tr>\n",
              "    <tr>\n",
              "      <th>1</th>\n",
              "      <td>PAST MEDICAL HISTORY:, He has difficulty climb...</td>\n",
              "      <td>Bariatrics</td>\n",
              "    </tr>\n",
              "    <tr>\n",
              "      <th>2</th>\n",
              "      <td>HISTORY OF PRESENT ILLNESS: , I have seen ABC ...</td>\n",
              "      <td>Bariatrics</td>\n",
              "    </tr>\n",
              "    <tr>\n",
              "      <th>3</th>\n",
              "      <td>2-D M-MODE: , ,1.  Left atrial enlargement wit...</td>\n",
              "      <td>Cardiovascular / Pulmonary</td>\n",
              "    </tr>\n",
              "    <tr>\n",
              "      <th>4</th>\n",
              "      <td>1.  The left ventricular cavity size and wall ...</td>\n",
              "      <td>Cardiovascular / Pulmonary</td>\n",
              "    </tr>\n",
              "  </tbody>\n",
              "</table>\n",
              "</div>\n",
              "      <button class=\"colab-df-convert\" onclick=\"convertToInteractive('df-50f09445-3f15-49f8-b933-ad0f59ff2e9a')\"\n",
              "              title=\"Convert this dataframe to an interactive table.\"\n",
              "              style=\"display:none;\">\n",
              "        \n",
              "  <svg xmlns=\"http://www.w3.org/2000/svg\" height=\"24px\"viewBox=\"0 0 24 24\"\n",
              "       width=\"24px\">\n",
              "    <path d=\"M0 0h24v24H0V0z\" fill=\"none\"/>\n",
              "    <path d=\"M18.56 5.44l.94 2.06.94-2.06 2.06-.94-2.06-.94-.94-2.06-.94 2.06-2.06.94zm-11 1L8.5 8.5l.94-2.06 2.06-.94-2.06-.94L8.5 2.5l-.94 2.06-2.06.94zm10 10l.94 2.06.94-2.06 2.06-.94-2.06-.94-.94-2.06-.94 2.06-2.06.94z\"/><path d=\"M17.41 7.96l-1.37-1.37c-.4-.4-.92-.59-1.43-.59-.52 0-1.04.2-1.43.59L10.3 9.45l-7.72 7.72c-.78.78-.78 2.05 0 2.83L4 21.41c.39.39.9.59 1.41.59.51 0 1.02-.2 1.41-.59l7.78-7.78 2.81-2.81c.8-.78.8-2.07 0-2.86zM5.41 20L4 18.59l7.72-7.72 1.47 1.35L5.41 20z\"/>\n",
              "  </svg>\n",
              "      </button>\n",
              "      \n",
              "  <style>\n",
              "    .colab-df-container {\n",
              "      display:flex;\n",
              "      flex-wrap:wrap;\n",
              "      gap: 12px;\n",
              "    }\n",
              "\n",
              "    .colab-df-convert {\n",
              "      background-color: #E8F0FE;\n",
              "      border: none;\n",
              "      border-radius: 50%;\n",
              "      cursor: pointer;\n",
              "      display: none;\n",
              "      fill: #1967D2;\n",
              "      height: 32px;\n",
              "      padding: 0 0 0 0;\n",
              "      width: 32px;\n",
              "    }\n",
              "\n",
              "    .colab-df-convert:hover {\n",
              "      background-color: #E2EBFA;\n",
              "      box-shadow: 0px 1px 2px rgba(60, 64, 67, 0.3), 0px 1px 3px 1px rgba(60, 64, 67, 0.15);\n",
              "      fill: #174EA6;\n",
              "    }\n",
              "\n",
              "    [theme=dark] .colab-df-convert {\n",
              "      background-color: #3B4455;\n",
              "      fill: #D2E3FC;\n",
              "    }\n",
              "\n",
              "    [theme=dark] .colab-df-convert:hover {\n",
              "      background-color: #434B5C;\n",
              "      box-shadow: 0px 1px 3px 1px rgba(0, 0, 0, 0.15);\n",
              "      filter: drop-shadow(0px 1px 2px rgba(0, 0, 0, 0.3));\n",
              "      fill: #FFFFFF;\n",
              "    }\n",
              "  </style>\n",
              "\n",
              "      <script>\n",
              "        const buttonEl =\n",
              "          document.querySelector('#df-50f09445-3f15-49f8-b933-ad0f59ff2e9a button.colab-df-convert');\n",
              "        buttonEl.style.display =\n",
              "          google.colab.kernel.accessAllowed ? 'block' : 'none';\n",
              "\n",
              "        async function convertToInteractive(key) {\n",
              "          const element = document.querySelector('#df-50f09445-3f15-49f8-b933-ad0f59ff2e9a');\n",
              "          const dataTable =\n",
              "            await google.colab.kernel.invokeFunction('convertToInteractive',\n",
              "                                                     [key], {});\n",
              "          if (!dataTable) return;\n",
              "\n",
              "          const docLinkHtml = 'Like what you see? Visit the ' +\n",
              "            '<a target=\"_blank\" href=https://colab.research.google.com/notebooks/data_table.ipynb>data table notebook</a>'\n",
              "            + ' to learn more about interactive tables.';\n",
              "          element.innerHTML = '';\n",
              "          dataTable['output_type'] = 'display_data';\n",
              "          await google.colab.output.renderOutput(dataTable, element);\n",
              "          const docLink = document.createElement('div');\n",
              "          docLink.innerHTML = docLinkHtml;\n",
              "          element.appendChild(docLink);\n",
              "        }\n",
              "      </script>\n",
              "    </div>\n",
              "  </div>\n",
              "  "
            ]
          },
          "metadata": {},
          "execution_count": 3
        }
      ]
    },
    {
      "cell_type": "code",
      "source": [
        "df = df[df['medical_specialty'] != ' Surgery']\n",
        "df = df[df['medical_specialty'] != ' SOAP / Chart / Progress Notes']\n",
        "df = df[df['medical_specialty'] != ' Emergency Room Reports']\n",
        "df = df[df['medical_specialty'] != ' Discharge Summary']\n",
        "df = df[df['medical_specialty'] != ' Office Notes']\n",
        "df = df[df['medical_specialty'] != ' General Medicine']\n",
        "df = df[df['medical_specialty'] != ' Pain Management']"
      ],
      "metadata": {
        "id": "-Q2TLkY0Zd86"
      },
      "execution_count": 4,
      "outputs": []
    },
    {
      "cell_type": "code",
      "source": [
        "df.isna().sum()"
      ],
      "metadata": {
        "colab": {
          "base_uri": "https://localhost:8080/"
        },
        "id": "uVQCKX6GQBqF",
        "outputId": "86602ce7-6245-4dbb-a610-e12d4e66178d"
      },
      "execution_count": 5,
      "outputs": [
        {
          "output_type": "execute_result",
          "data": {
            "text/plain": [
              "transcription        16\n",
              "medical_specialty     0\n",
              "dtype: int64"
            ]
          },
          "metadata": {},
          "execution_count": 5
        }
      ]
    },
    {
      "cell_type": "code",
      "source": [
        "df.dropna(axis=0,inplace=True)"
      ],
      "metadata": {
        "id": "cEsmn4KTQGuy"
      },
      "execution_count": 6,
      "outputs": []
    },
    {
      "cell_type": "code",
      "source": [
        "counts = df['medical_specialty'].value_counts()\n",
        "\n",
        "df = df[~df['medical_specialty'].isin(counts[counts < 240].index)]\n",
        "df.head()"
      ],
      "metadata": {
        "colab": {
          "base_uri": "https://localhost:8080/",
          "height": 206
        },
        "id": "CGJaUC4MQLKE",
        "outputId": "6d226324-ae86-4006-93d1-bc33af8887cf"
      },
      "execution_count": 7,
      "outputs": [
        {
          "output_type": "execute_result",
          "data": {
            "text/plain": [
              "                                        transcription  \\\n",
              "3   2-D M-MODE: , ,1.  Left atrial enlargement wit...   \n",
              "4   1.  The left ventricular cavity size and wall ...   \n",
              "7   2-D ECHOCARDIOGRAM,Multiple views of the heart...   \n",
              "9   DESCRIPTION:,1.  Normal cardiac chambers size....   \n",
              "11  2-D STUDY,1. Mild aortic stenosis, widely calc...   \n",
              "\n",
              "              medical_specialty  \n",
              "3    Cardiovascular / Pulmonary  \n",
              "4    Cardiovascular / Pulmonary  \n",
              "7    Cardiovascular / Pulmonary  \n",
              "9    Cardiovascular / Pulmonary  \n",
              "11   Cardiovascular / Pulmonary  "
            ],
            "text/html": [
              "\n",
              "  <div id=\"df-8665af53-8423-447b-9642-c42dd53181e8\">\n",
              "    <div class=\"colab-df-container\">\n",
              "      <div>\n",
              "<style scoped>\n",
              "    .dataframe tbody tr th:only-of-type {\n",
              "        vertical-align: middle;\n",
              "    }\n",
              "\n",
              "    .dataframe tbody tr th {\n",
              "        vertical-align: top;\n",
              "    }\n",
              "\n",
              "    .dataframe thead th {\n",
              "        text-align: right;\n",
              "    }\n",
              "</style>\n",
              "<table border=\"1\" class=\"dataframe\">\n",
              "  <thead>\n",
              "    <tr style=\"text-align: right;\">\n",
              "      <th></th>\n",
              "      <th>transcription</th>\n",
              "      <th>medical_specialty</th>\n",
              "    </tr>\n",
              "  </thead>\n",
              "  <tbody>\n",
              "    <tr>\n",
              "      <th>3</th>\n",
              "      <td>2-D M-MODE: , ,1.  Left atrial enlargement wit...</td>\n",
              "      <td>Cardiovascular / Pulmonary</td>\n",
              "    </tr>\n",
              "    <tr>\n",
              "      <th>4</th>\n",
              "      <td>1.  The left ventricular cavity size and wall ...</td>\n",
              "      <td>Cardiovascular / Pulmonary</td>\n",
              "    </tr>\n",
              "    <tr>\n",
              "      <th>7</th>\n",
              "      <td>2-D ECHOCARDIOGRAM,Multiple views of the heart...</td>\n",
              "      <td>Cardiovascular / Pulmonary</td>\n",
              "    </tr>\n",
              "    <tr>\n",
              "      <th>9</th>\n",
              "      <td>DESCRIPTION:,1.  Normal cardiac chambers size....</td>\n",
              "      <td>Cardiovascular / Pulmonary</td>\n",
              "    </tr>\n",
              "    <tr>\n",
              "      <th>11</th>\n",
              "      <td>2-D STUDY,1. Mild aortic stenosis, widely calc...</td>\n",
              "      <td>Cardiovascular / Pulmonary</td>\n",
              "    </tr>\n",
              "  </tbody>\n",
              "</table>\n",
              "</div>\n",
              "      <button class=\"colab-df-convert\" onclick=\"convertToInteractive('df-8665af53-8423-447b-9642-c42dd53181e8')\"\n",
              "              title=\"Convert this dataframe to an interactive table.\"\n",
              "              style=\"display:none;\">\n",
              "        \n",
              "  <svg xmlns=\"http://www.w3.org/2000/svg\" height=\"24px\"viewBox=\"0 0 24 24\"\n",
              "       width=\"24px\">\n",
              "    <path d=\"M0 0h24v24H0V0z\" fill=\"none\"/>\n",
              "    <path d=\"M18.56 5.44l.94 2.06.94-2.06 2.06-.94-2.06-.94-.94-2.06-.94 2.06-2.06.94zm-11 1L8.5 8.5l.94-2.06 2.06-.94-2.06-.94L8.5 2.5l-.94 2.06-2.06.94zm10 10l.94 2.06.94-2.06 2.06-.94-2.06-.94-.94-2.06-.94 2.06-2.06.94z\"/><path d=\"M17.41 7.96l-1.37-1.37c-.4-.4-.92-.59-1.43-.59-.52 0-1.04.2-1.43.59L10.3 9.45l-7.72 7.72c-.78.78-.78 2.05 0 2.83L4 21.41c.39.39.9.59 1.41.59.51 0 1.02-.2 1.41-.59l7.78-7.78 2.81-2.81c.8-.78.8-2.07 0-2.86zM5.41 20L4 18.59l7.72-7.72 1.47 1.35L5.41 20z\"/>\n",
              "  </svg>\n",
              "      </button>\n",
              "      \n",
              "  <style>\n",
              "    .colab-df-container {\n",
              "      display:flex;\n",
              "      flex-wrap:wrap;\n",
              "      gap: 12px;\n",
              "    }\n",
              "\n",
              "    .colab-df-convert {\n",
              "      background-color: #E8F0FE;\n",
              "      border: none;\n",
              "      border-radius: 50%;\n",
              "      cursor: pointer;\n",
              "      display: none;\n",
              "      fill: #1967D2;\n",
              "      height: 32px;\n",
              "      padding: 0 0 0 0;\n",
              "      width: 32px;\n",
              "    }\n",
              "\n",
              "    .colab-df-convert:hover {\n",
              "      background-color: #E2EBFA;\n",
              "      box-shadow: 0px 1px 2px rgba(60, 64, 67, 0.3), 0px 1px 3px 1px rgba(60, 64, 67, 0.15);\n",
              "      fill: #174EA6;\n",
              "    }\n",
              "\n",
              "    [theme=dark] .colab-df-convert {\n",
              "      background-color: #3B4455;\n",
              "      fill: #D2E3FC;\n",
              "    }\n",
              "\n",
              "    [theme=dark] .colab-df-convert:hover {\n",
              "      background-color: #434B5C;\n",
              "      box-shadow: 0px 1px 3px 1px rgba(0, 0, 0, 0.15);\n",
              "      filter: drop-shadow(0px 1px 2px rgba(0, 0, 0, 0.3));\n",
              "      fill: #FFFFFF;\n",
              "    }\n",
              "  </style>\n",
              "\n",
              "      <script>\n",
              "        const buttonEl =\n",
              "          document.querySelector('#df-8665af53-8423-447b-9642-c42dd53181e8 button.colab-df-convert');\n",
              "        buttonEl.style.display =\n",
              "          google.colab.kernel.accessAllowed ? 'block' : 'none';\n",
              "\n",
              "        async function convertToInteractive(key) {\n",
              "          const element = document.querySelector('#df-8665af53-8423-447b-9642-c42dd53181e8');\n",
              "          const dataTable =\n",
              "            await google.colab.kernel.invokeFunction('convertToInteractive',\n",
              "                                                     [key], {});\n",
              "          if (!dataTable) return;\n",
              "\n",
              "          const docLinkHtml = 'Like what you see? Visit the ' +\n",
              "            '<a target=\"_blank\" href=https://colab.research.google.com/notebooks/data_table.ipynb>data table notebook</a>'\n",
              "            + ' to learn more about interactive tables.';\n",
              "          element.innerHTML = '';\n",
              "          dataTable['output_type'] = 'display_data';\n",
              "          await google.colab.output.renderOutput(dataTable, element);\n",
              "          const docLink = document.createElement('div');\n",
              "          docLink.innerHTML = docLinkHtml;\n",
              "          element.appendChild(docLink);\n",
              "        }\n",
              "      </script>\n",
              "    </div>\n",
              "  </div>\n",
              "  "
            ]
          },
          "metadata": {},
          "execution_count": 7
        }
      ]
    },
    {
      "cell_type": "code",
      "source": [
        "special_character_remover = re.compile('[/(){}\\[\\]\\|@,;]')\n",
        "extra_symbol_remover = re.compile('[^0-9a-z #+_]')\n",
        "STOPWORDS = set(stopwords.words('english'))"
      ],
      "metadata": {
        "id": "4k0n6dZGQRwV"
      },
      "execution_count": 8,
      "outputs": []
    },
    {
      "cell_type": "code",
      "source": [
        "def clean_text(text):\n",
        "    text = text.lower()\n",
        "    text = special_character_remover.sub(' ',text)\n",
        "    text = extra_symbol_remover.sub('',text)\n",
        "    text = ' '.join(word for word in text.split() if word not in STOPWORDS)\n",
        "    return text\n",
        "\n",
        "def lemmatize_text(text):\n",
        "    wordlist=[]\n",
        "    lemmatizer = WordNetLemmatizer() \n",
        "    sentences=sent_tokenize(text)\n",
        "    \n",
        "    for sentence in sentences:\n",
        "        words=word_tokenize(sentence)\n",
        "        for word in words:\n",
        "            wordlist.append(lemmatizer.lemmatize(word))    \n",
        "    return ' '.join(wordlist) "
      ],
      "metadata": {
        "id": "pRLWaIiGQW-2"
      },
      "execution_count": 9,
      "outputs": []
    },
    {
      "cell_type": "code",
      "source": [
        "nltk.download('punkt')\n",
        "nltk.download('wordnet')\n",
        "nltk.download('omw-1.4')"
      ],
      "metadata": {
        "colab": {
          "base_uri": "https://localhost:8080/"
        },
        "id": "CBllBCSMQezG",
        "outputId": "3a623e7e-9f53-4b5a-b321-9441e6c197dc"
      },
      "execution_count": 10,
      "outputs": [
        {
          "output_type": "stream",
          "name": "stderr",
          "text": [
            "[nltk_data] Downloading package punkt to /root/nltk_data...\n",
            "[nltk_data]   Unzipping tokenizers/punkt.zip.\n",
            "[nltk_data] Downloading package wordnet to /root/nltk_data...\n",
            "[nltk_data] Downloading package omw-1.4 to /root/nltk_data...\n"
          ]
        },
        {
          "output_type": "execute_result",
          "data": {
            "text/plain": [
              "True"
            ]
          },
          "metadata": {},
          "execution_count": 10
        }
      ]
    },
    {
      "cell_type": "code",
      "source": [
        "df['transcription'] = df['transcription'].apply(clean_text)\n",
        "df['transcription'] = df['transcription'].apply(lemmatize_text)"
      ],
      "metadata": {
        "id": "rJCMv7aVQm-u"
      },
      "execution_count": 11,
      "outputs": []
    },
    {
      "cell_type": "code",
      "source": [
        "vectorizer = TfidfVectorizer(analyzer='word', stop_words='english',ngram_range=(1,3), max_df=0.75,min_df=5, use_idf=True, smooth_idf=True,sublinear_tf=True, max_features=1000)\n",
        "tfIdfMat  = vectorizer.fit_transform(df['transcription'].tolist() )\n",
        "feature_names = sorted(vectorizer.get_feature_names())\n",
        "del feature_names[0:35]\n",
        "print(feature_names)"
      ],
      "metadata": {
        "colab": {
          "base_uri": "https://localhost:8080/"
        },
        "id": "FBAAUxMSQu4S",
        "outputId": "b78ff760-6086-411a-d84c-ab450d63b3ce"
      },
      "execution_count": 12,
      "outputs": [
        {
          "output_type": "stream",
          "name": "stdout",
          "text": [
            "['60', '6french', '70', '75', '80', '90', '92', '93', '95', '96', 'abc', 'abcd', 'abdomen', 'abdomen soft', 'abdomen soft nontender', 'abdominal', 'abdominal pain', 'able', 'abnormal', 'abnormality', 'abuse', 'according', 'achieved', 'active', 'activity', 'acute', 'acute distress', 'addition', 'additional', 'adenopathy', 'adequate', 'administered', 'admission', 'admitted', 'advanced', 'affect', 'age', 'ago', 'air', 'airway', 'alcohol', 'alert', 'alert oriented', 'allergic', 'allergy', 'allergy known', 'allergy known drug', 'anemia', 'anesthesia', 'anesthesia general', 'anesthetic', 'angiogram', 'angiography', 'ankle', 'anterior', 'anterior descending', 'antibiotic', 'anxiety', 'aorta', 'aortic', 'aortic valve', 'ap', 'apparently', 'appear', 'appearance', 'appeared', 'appears', 'applied', 'appropriate', 'approximately', 'area', 'arm', 'arterial', 'artery', 'artery disease', 'arthritis', 'asked', 'aspect', 'aspirin', 'assessment', 'associated', 'atraumatic', 'atrial', 'atrial fibrillation', 'atrium', 'attention', 'auscultation', 'axis', 'balloon', 'base', 'based', 'beat', 'bed', 'began', 'benefit', 'benign', 'better', 'biceps', 'bid', 'bilateral', 'bilaterally', 'biopsy', 'bladder', 'blade', 'bleeding', 'block', 'blood', 'blood loss', 'blood pressure', 'body', 'bone', 'bony', 'bowel', 'bowel sound', 'brain', 'branch', 'breast', 'breath', 'brother', 'brought', 'bruits', 'bun', 'bypass', 'c5c6', 'calcification', 'calcium', 'came', 'canal', 'cancer', 'capsule', 'cardiac', 'cardiovascular', 'care', 'carefully', 'carotid', 'carotid artery', 'carpal', 'carpal tunnel', 'carried', 'case', 'catheter', 'catheterization', 'cc', 'cell', 'central', 'cervical', 'change', 'chart', 'check', 'chest', 'chest pain', 'chest xray', 'chief', 'chief complaint', 'child', 'chill', 'chronic', 'circumflex', 'clear', 'clear auscultation', 'clinic', 'clinical', 'closed', 'closure', 'clubbing', 'cm', 'collateral', 'come', 'common', 'complaint', 'complete', 'completed', 'complex', 'complication', 'component', 'compression', 'concern', 'condition', 'confirmed', 'consent', 'consistent', 'consultation', 'continue', 'continued', 'contrast', 'control', 'cord', 'coronary', 'coronary artery', 'coronary artery disease', 'cough', 'coumadin', 'count', 'course', 'cranial', 'cranial nerve', 'creatinine', 'csf', 'ct', 'ct scan', 'cuff', 'culture', 'current', 'current medication', 'currently', 'cut', 'cyanosis', 'daily', 'data', 'daughter', 'day', 'decompression', 'decreased', 'deep', 'defect', 'deficit', 'deformity', 'degenerative', 'degree', 'demonstrated', 'denied', 'denies', 'department', 'depression', 'descending', 'descending artery', 'described', 'description', 'developed', 'device', 'diabetes', 'diabetes mellitus', 'diagnosed', 'diagnosis', 'diagnostic', 'diagonal', 'diarrhea', 'died', 'diet', 'difficulty', 'diffuse', 'direct', 'directed', 'disc', 'discharge', 'discharged', 'discomfort', 'discussed', 'discussed patient', 'disease', 'disk', 'disorder', 'dissected', 'dissection', 'distal', 'distally', 'distress', 'dorsal', 'dose', 'dr', 'drain', 'drainage', 'draped', 'draped usual', 'draped usual sterile', 'dressing', 'dressing applied', 'drink', 'drug', 'drug allergy', 'drug use', 'dry', 'dyspnea', 'ear', 'echocardiogram', 'edema', 'edge', 'effect', 'effusion', 'ejection', 'ejection fraction', 'ekg', 'elbow', 'elevated', 'emergency', 'emergency room', 'end', 'endotracheal', 'enlarged', 'episode', 'equal', 'erythema', 'estimated', 'estimated blood', 'estimated blood loss', 'evaluated', 'evaluation', 'evidence', 'exam', 'examination', 'examination general', 'examination vital', 'examination vital sign', 'excellent', 'exercise', 'explained', 'extending', 'extension', 'extensor', 'external', 'extraocular', 'extremity', 'eye', 'facet', 'facial', 'factor', 'failure', 'fall', 'family', 'family history', 'fascia', 'fashion', 'father', 'fatigue', 'feel', 'felt', 'female', 'femoral', 'femoral artery', 'fever', 'fever chill', 'fibrillation', 'field', 'fifth', 'finding', 'finger', 'fixation', 'flexion', 'flexor', 'flow', 'fluid', 'flushed', 'focal', 'follow', 'followed', 'following', 'followup', 'food', 'foot', 'foramen', 'fraction', 'fracture', 'fragment', 'free', 'function', 'fusion', 'gait', 'gallop', 'general', 'gentleman', 'gi', 'given', 'glucose', 'going', 'good', 'grade', 'graft', 'greater', 'grossly', 'guide', 'guidewire', 'hand', 'head', 'headache', 'health', 'healthy', 'hearing', 'heart', 'heart failure', 'heart rate', 'heart regular', 'heent', 'height', 'help', 'hemoglobin', 'hemostasis', 'hernia', 'high', 'hip', 'history', 'history hypertension', 'history patient', 'history present', 'history present illness', 'history significant', 'home', 'hospital', 'hour', 'husband', 'hypertension', 'identified', 'ii', 'illicit', 'illicit drug', 'illness', 'illness patient', 'image', 'imaging', 'impression', 'improved', 'improvement', 'inch', 'incision', 'include', 'including', 'increase', 'increased', 'indication', 'infarction', 'infection', 'inferior', 'informed', 'informed consent', 'initial', 'initially', 'injected', 'injection', 'injury', 'inr', 'inserted', 'insertion', 'intact', 'internal', 'interrupted', 'interval', 'intervention', 'intraoperative', 'involving', 'irrigated', 'issue', 'iv', 'joint', 'kidney', 'knee', 'known', 'known drug', 'known drug allergy', 'l4l5', 'l5', 'l5s1', 'lab', 'laboratory', 'laboratory data', 'lad', 'large', 'later', 'lateral', 'laterally', 'layer', 'le', 'lead', 'left', 'left anterior', 'left anterior descending', 'left knee', 'left lower', 'left main', 'left upper', 'left ventricle', 'left ventricular', 'leg', 'length', 'lesion', 'level', 'lidocaine', 'life', 'ligament', 'light', 'like', 'likely', 'limit', 'limited', 'line', 'little', 'liver', 'lobe', 'local', 'long', 'longus', 'loss', 'low', 'lower', 'lower extremity', 'lumbar', 'lumbar spine', 'lung', 'lung clear', 'lung clear auscultation', 'lv', 'lymph', 'lymph node', 'lymphadenopathy', 'main', 'make', 'male', 'management', 'manner', 'marcaine', 'marked', 'married', 'mass', 'material', 'measure', 'measuring', 'medial', 'medical', 'medical history', 'medication', 'mellitus', 'membrane', 'memory', 'mental', 'mentioned', 'metatarsal', 'mg', 'mg daily', 'mg day', 'mg po', 'mg po daily', 'mid', 'middle', 'midline', 'mild', 'mildly', 'minimal', 'minute', 'mitral', 'ml', 'mm', 'mmhg', 'moderate', 'mom', 'month', 'mood', 'morning', 'mother', 'motion', 'motor', 'movement', 'mr', 'mri', 'multiple', 'murmur', 'muscle', 'musculoskeletal', 'myocardial', 'narrowing', 'nasal', 'nausea', 'nausea vomiting', 'neck', 'neck supple', 'need', 'needed', 'needle', 'negative', 'nerve', 'nerve root', 'neurologic', 'neurological', 'new', 'night', 'node', 'noncontributory', 'nontender', 'normal', 'normal limit', 'normocephalic', 'nose', 'note', 'noted', 'numbness', 'obstruction', 'obstructive', 'obtained', 'obvious', 'occasional', 'office', 'old', 'onset', 'open', 'operating', 'operating room', 'operation', 'operative', 'oral', 'order', 'oriented', 'osteophyte', 'osteotomy', 'outpatient', 'oxygen', 'pacemaker', 'pain', 'palpable', 'palpation', 'palpitation', 'partial', 'passed', 'past', 'past medical', 'past medical history', 'past surgical', 'past surgical history', 'patella', 'patent', 'pathology', 'patient brought', 'patient denies', 'patient given', 'patient state', 'patient taken', 'patient tolerated', 'patient tolerated procedure', 'pelvis', 'performed', 'perfusion', 'pericardial', 'period', 'peripheral', 'physical', 'physical examination', 'physical examination general', 'physical examination vital', 'physical therapy', 'physician', 'place', 'placed', 'placement', 'plan', 'plantar', 'plaque', 'plate', 'platelet', 'pleasant', 'pleural', 'pneumonia', 'po', 'po daily', 'point', 'poor', 'portal', 'portion', 'position', 'positioned', 'positive', 'possible', 'post', 'posterior', 'postoperative', 'postoperative diagnosis', 'potassium', 'pound', 'preoperative', 'preoperative diagnosis', 'prepped', 'prepped draped', 'prepped draped usual', 'prescription', 'present', 'present illness', 'present illness patient', 'presentation', 'presented', 'pressure', 'previous', 'previously', 'primary', 'prior', 'prn', 'probably', 'problem', 'procedure', 'procedure patient', 'procedure performed', 'proceed', 'process', 'prolene', 'protein', 'protocol', 'proximal', 'proximally', 'psychiatric', 'pulmonary', 'pulmonary artery', 'pulse', 'pupil', 'pupil equal', 'qd', 'quadrant', 'question', 'quite', 'radial', 'range', 'range motion', 'rash', 'rate', 'rate rhythm', 'reactive', 'reactive light', 'reason', 'received', 'recent', 'recently', 'recommendation', 'recommended', 'recovery', 'recovery room', 'rectal', 'recurrent', 'reduction', 'referred', 'reflex', 'regarding', 'region', 'regular', 'regular rate', 'regular rate rhythm', 'regurgitation', 'related', 'release', 'released', 'removal', 'removed', 'renal', 'repair', 'repeat', 'replacement', 'report', 'reported', 'resection', 'residual', 'resolved', 'respiration', 'respiratory', 'respiratory rate', 'response', 'rest', 'result', 'return', 'returned', 'revealed', 'reveals', 'review', 'reviewed', 'rhythm', 'right', 'right coronary', 'right coronary artery', 'right femoral', 'right foot', 'right knee', 'right lower', 'right upper', 'risk', 'risk benefit', 'room', 'root', 'rotator', 'rotator cuff', 'round', 'rub', 'running', 's1', 's1 s2', 's2', 'saline', 'satisfactory', 'saturation', 'saw', 'scan', 'school', 'screw', 'second', 'secondary', 'sedation', 'seen', 'segment', 'seizure', 'sensation', 'sensory', 'sent', 'series', 'severe', 'sharp', 'sheath', 'short', 'shortness', 'shortness breath', 'shoulder', 'showed', 'shunt', 'sign', 'signal', 'significant', 'single', 'sinus', 'sinus rhythm', 'site', 'size', 'skin', 'sleep', 'slightly', 'small', 'smoke', 'smoking', 'social', 'social history', 'social history patient', 'soft', 'soft nontender', 'soft tissue', 'solution', 'somewhat', 'sound', 'space', 'specimen', 'speech', 'spinal', 'spine', 'stable', 'stable condition', 'standard', 'started', 'state', 'stated', 'status', 'status post', 'stenosis', 'stent', 'sterile', 'sterile fashion', 'stool', 'strength', 'stress', 'stroke', 'structure', 'study', 'subcutaneous', 'subcutaneous tissue', 'subsequently', 'superficial', 'superior', 'supine', 'supine position', 'supple', 'surface', 'surgery', 'surgical', 'surgical history', 'suture', 'swelling', 'symptom', 'syndrome', 'systolic', 'table', 'taken', 'taken operating', 'taking', 'tear', 'technique', 'temperature', 'tenderness', 'tendon', 'test', 'testing', 'therapy', 'thickening', 'think', 'thought', 'throat', 'thyroid', 'tibial', 'time', 'tissue', 'tobacco', 'today', 'toe', 'tolerated', 'tolerated procedure', 'tone', 'tongue', 'total', 'tourniquet', 'trachea', 'transferred', 'transverse', 'treated', 'treatment', 'trial', 'tricuspid', 'tube', 'tumor', 'tunnel', 'twice', 'type', 'ulnar', 'ultrasound', 'unable', 'underwent', 'unit', 'unknown', 'unremarkable', 'upper', 'upper extremity', 'upper lobe', 'urinary', 'urine', 'use', 'used', 'using', 'usual', 'usual sterile', 'utilizing', 'valve', 'vascular', 'vein', 'venous', 'ventricle', 'ventricular', 'vertebral', 'vertebral body', 'vessel', 'vicryl', 'view', 'vision', 'visit', 'visual', 'visualized', 'vital', 'vital sign', 'vitamin', 'volume', 'vomiting', 'walk', 'walking', 'wall', 'weakness', 'week', 'weight', 'went', 'white', 'wife', 'wire', 'woman', 'work', 'workup', 'worse', 'wound', 'wrist', 'xray', 'xrays', 'xyz', 'year', 'year ago']\n"
          ]
        },
        {
          "output_type": "stream",
          "name": "stderr",
          "text": [
            "/usr/local/lib/python3.8/dist-packages/sklearn/utils/deprecation.py:87: FutureWarning: Function get_feature_names is deprecated; get_feature_names is deprecated in 1.0 and will be removed in 1.2. Please use get_feature_names_out instead.\n",
            "  warnings.warn(msg, category=FutureWarning)\n"
          ]
        }
      ]
    },
    {
      "cell_type": "code",
      "source": [
        "#Principal component analysis (PCA).\n",
        "pca = PCA(n_components=0.95)\n",
        "tfIdfMat_reduced = pca.fit_transform(tfIdfMat.toarray())\n",
        "labels = df['medical_specialty'].tolist()\n",
        "category_list = df.medical_specialty.unique()"
      ],
      "metadata": {
        "id": "GKos-kyOQzXZ"
      },
      "execution_count": 13,
      "outputs": []
    },
    {
      "cell_type": "code",
      "source": [
        "print(df['medical_specialty'])"
      ],
      "metadata": {
        "colab": {
          "base_uri": "https://localhost:8080/"
        },
        "id": "zsI8LsdIQ-1W",
        "outputId": "56764989-902f-41c3-e4b0-e087ffaed030"
      },
      "execution_count": 14,
      "outputs": [
        {
          "output_type": "stream",
          "name": "stdout",
          "text": [
            "3        Cardiovascular / Pulmonary\n",
            "4        Cardiovascular / Pulmonary\n",
            "7        Cardiovascular / Pulmonary\n",
            "9        Cardiovascular / Pulmonary\n",
            "11       Cardiovascular / Pulmonary\n",
            "                   ...             \n",
            "4972     Cardiovascular / Pulmonary\n",
            "4973     Cardiovascular / Pulmonary\n",
            "4974     Cardiovascular / Pulmonary\n",
            "4975     Cardiovascular / Pulmonary\n",
            "4976     Cardiovascular / Pulmonary\n",
            "Name: medical_specialty, Length: 1515, dtype: object\n"
          ]
        }
      ]
    },
    {
      "cell_type": "code",
      "source": [
        "X_train, X_valid, y_train, y_valid = train_test_split(df['transcription'].tolist(), df['medical_specialty'].tolist(),  stratify = df['medical_specialty'].tolist(), test_size=0.33,random_state=0)\n",
        "\n",
        "x_train=np.asarray(X_train)\n",
        "x_valid = np.array(X_valid)\n",
        "x_test =np.asarray(df['transcription'].tolist())\n",
        "\n",
        "le = LabelEncoder()\n",
        "\n",
        "train_labels = le.fit_transform(y_train)\n",
        "train_labels = np.asarray( tf.keras.utils.to_categorical(train_labels))\n",
        "\n",
        "valid_labels = le.transform(y_valid)\n",
        "valid_labels = np.asarray( tf.keras.utils.to_categorical(valid_labels))\n",
        "\n",
        "test_labels = le.transform(df['medical_specialty'].tolist())\n",
        "test_labels = np.asarray(tf.keras.utils.to_categorical(test_labels))\n",
        "list(le.classes_)\n",
        "\n",
        "\n",
        "train_ds = tf.data.Dataset.from_tensor_slices((x_train,train_labels))\n",
        "valid_ds = tf.data.Dataset.from_tensor_slices((x_valid,valid_labels))\n",
        "test_ds = tf.data.Dataset.from_tensor_slices((df['medical_specialty'],test_labels));"
      ],
      "metadata": {
        "id": "ouIsLM3LRE69"
      },
      "execution_count": 15,
      "outputs": []
    },
    {
      "cell_type": "code",
      "source": [
        "print(y_train[0:20])\n",
        "train_labels = le.fit_transform(y_train)\n",
        "print('Text to number')\n",
        "print(train_labels[0:20])\n",
        "train_labels = np.asarray( tf.keras.utils.to_categorical(train_labels))\n",
        "print('Number to category')\n",
        "print(train_labels[0:20])"
      ],
      "metadata": {
        "colab": {
          "base_uri": "https://localhost:8080/"
        },
        "id": "ObcT5ueVRQVW",
        "outputId": "ce188b7c-3b46-460f-c998-871b0f64cef0"
      },
      "execution_count": 16,
      "outputs": [
        {
          "output_type": "stream",
          "name": "stdout",
          "text": [
            "[' Radiology', ' Cardiovascular / Pulmonary', ' Orthopedic', ' Consult - History and Phy.', ' Radiology', ' Orthopedic', ' Cardiovascular / Pulmonary', ' Cardiovascular / Pulmonary', ' Orthopedic', ' Cardiovascular / Pulmonary', ' Consult - History and Phy.', ' Orthopedic', ' Orthopedic', ' Cardiovascular / Pulmonary', ' Consult - History and Phy.', ' Orthopedic', ' Radiology', ' Consult - History and Phy.', ' Radiology', ' Cardiovascular / Pulmonary']\n",
            "Text to number\n",
            "[3 0 2 1 3 2 0 0 2 0 1 2 2 0 1 2 3 1 3 0]\n",
            "Number to category\n",
            "[[0. 0. 0. 1.]\n",
            " [1. 0. 0. 0.]\n",
            " [0. 0. 1. 0.]\n",
            " [0. 1. 0. 0.]\n",
            " [0. 0. 0. 1.]\n",
            " [0. 0. 1. 0.]\n",
            " [1. 0. 0. 0.]\n",
            " [1. 0. 0. 0.]\n",
            " [0. 0. 1. 0.]\n",
            " [1. 0. 0. 0.]\n",
            " [0. 1. 0. 0.]\n",
            " [0. 0. 1. 0.]\n",
            " [0. 0. 1. 0.]\n",
            " [1. 0. 0. 0.]\n",
            " [0. 1. 0. 0.]\n",
            " [0. 0. 1. 0.]\n",
            " [0. 0. 0. 1.]\n",
            " [0. 1. 0. 0.]\n",
            " [0. 0. 0. 1.]\n",
            " [1. 0. 0. 0.]]\n"
          ]
        }
      ]
    },
    {
      "cell_type": "code",
      "source": [
        "embedding = \"https://tfhub.dev/google/tf2-preview/gnews-swivel-20dim-with-oov/1\" #Creating embedding layer\n",
        "hub_layer = hub.KerasLayer(embedding, input_shape=[], \n",
        "                           dtype=tf.string, trainable=True)\n",
        "\n"
      ],
      "metadata": {
        "id": "pZ9ef61BRlBX"
      },
      "execution_count": 17,
      "outputs": []
    },
    {
      "cell_type": "code",
      "source": [
        "print(x_train[:1])\n",
        "hub_layer(x_train[:1])"
      ],
      "metadata": {
        "colab": {
          "base_uri": "https://localhost:8080/"
        },
        "id": "GeFp4HBARqFp",
        "outputId": "83259953-d6af-4f6c-dba0-3a2a9f63da30"
      },
      "execution_count": 18,
      "outputs": [
        {
          "output_type": "stream",
          "name": "stdout",
          "text": [
            "['cc paraplegia hx 32 rhf performing missionary work jos nigeria several year delivered 4th child vaginal delivery 4 10 97 delivery induced pitocin otherwise uncomplicated first 4 day postpartum noted clear liquid diarrhea without blood minor abdominal discomfort spontaneous resolved without medical treatment second week postpartum 45 day sinusitis purulent nasal discharge facial pain otherwise well 5 4 97 stationed rural area nigeria noted dull ache knee lateral patella proximal tibia bilaterally pain relieved massage seemed bothersome seated supine sensory loss time 5 6 97 awakened pain radiating knee anterior tibia next hour pain radiated circumferentially around calf involved sol foot posterior ble buttock rising bed became laborious task required assistance walk bathroom ibuprofen provided minimal analgesia evening sole one foot numb awoke next morning 5 9 97 pin needle sensation ble buttock given darvocet analgesia took airplane back larger city based one hour flight ble weakness progressed nonweight bearing state ie could stand local evaluation revealed 3 3 proximal 4 4 distal ble weakness sensory level waist pp lt testing also mild lumbar back pain local laboratory evaluation wbc 127 esr 10 presumed guillainbarre syndrome placed solucortef 1000mg qd sandimmune iv igg 120 g 5 10 97 airlifted geneva switzerland upon arrival total anesthesia foot inguinal region bilaterally flaccid areflexic paralysis ble unable void defecate straight catheterization bladder revealed residual volume 1000cc 5 12 csf analysis revealed protein 15g l glucose 22mmol l wbc 92 pmns 100 lymphocyte rbc 70 clear csf bacterialfungalafbcultures negative broad spectrum antibiotic solumedrol 1g iv qd started mri tlspine 5 12 97 revealed intradural t12l1 lesion enhanced minimally gadolinium associated spinal cord edema affected area mri brain 5 12 97 unremarkable showed evidence demyelinating disease hiv htlv1 hsv lyme ebv malaria cmv serological titer negative 5 15 97 schistosomiasis mekongi ifat serological titer returned positive 1320 normal180 5 12 97 csf schistosomiasis mekongi ifat elisa negative given one day course praziquantel 36g total 3 dos started prednisone 60 mg po qd broad spectrum antibiotic solumedrol discontinued 5 22 97 rectal biopsy performed evaluate parasite eradication result came back positive ovum granuloma left uihc organism speciated 5 22 97 csf schistosomiasis elisa ifat titer positive 109 1160 respectively titer known initially arrived uihc following administration praziquantel regained sensation ble paraplegia urinary retention remained med 5 24 97 uihc arrival prednisone 60mg qd zantac 50 iv qd propulsid 20mg tid enoxaparin 20mg qd pmh 1 g4p4 fhx unremarkable shx missionary married 4 child age 7 5 3 6 week exam bp110 70 hr72 rr16 356c m ao person place time speech fluent without dysarthria lucid thought process cn unremarkable motor 5 5 bue strength lower extremity 1 1 quad hamstring 0 0 distally sensory decreased pp lt vib foot inguinal region bilaterally t12 sensory level temperature ice glove coord normal fnf station gait done reflex 2 2 bue 0 0 ble plantar response bilaterally rectal decreased rectal tone guaiac negative lhermittes sign paraspinal hypertonicity noted vertebral tenderness gen exam unremarkable course mri tlspine 5 24 97 revealed 6 x 8 x 25 soft tissue mass l1 level posterior tip conus medullaris extending canal level appeared intradural mild enhancement enhancement along distal cord surface cauda equina distal cord sign diffuse edema underwent exploratory decompressive laminectomy 5 27 97 retreated one day course praziquantel 40mg kg day praziquantel reportedly 80 effective parasite eradication continued reside neurology neurosurgical service 5 31 97 remained paraplegic']\n"
          ]
        },
        {
          "output_type": "execute_result",
          "data": {
            "text/plain": [
              "<tf.Tensor: shape=(1, 20), dtype=float32, numpy=\n",
              "array([[ 2.0663931 , -0.8010143 , -3.84755   , -1.3448297 ,  4.2780685 ,\n",
              "        -4.3240547 , -5.3208895 , -0.490371  , -0.8092761 , -4.2623844 ,\n",
              "        -1.8723013 , 10.11643   ,  0.9737524 , -4.2678657 ,  0.70083475,\n",
              "         1.7452117 , -6.804348  , -2.2060795 ,  2.49989   , -1.5491278 ]],\n",
              "      dtype=float32)>"
            ]
          },
          "metadata": {},
          "execution_count": 18
        }
      ]
    },
    {
      "cell_type": "code",
      "source": [
        "model1 = tf.keras.Sequential()\n",
        "model1.add(hub_layer)\n",
        "model1.add(tf.keras.layers.Dropout(0.5))\n",
        "model1.add(tf.keras.layers.Dense(30, activation='relu',kernel_regularizer=regularizers.l2(0.05)))\n",
        "model1.add(tf.keras.layers.Dropout(0.5))\n",
        "model1.add(tf.keras.layers.Dense(4,activation='sigmoid',kernel_regularizer=regularizers.l2(0.05)))\n",
        "\n",
        "model1.summary()\n",
        "model1.compile(loss=tf.keras.losses.CategoricalCrossentropy(from_logits=True), optimizer='adam', metrics=[\"CategoricalAccuracy\"])"
      ],
      "metadata": {
        "colab": {
          "base_uri": "https://localhost:8080/"
        },
        "id": "vjRm6oUgShR1",
        "outputId": "a3db475a-db8b-431f-d842-9216140b53a7"
      },
      "execution_count": 19,
      "outputs": [
        {
          "output_type": "stream",
          "name": "stdout",
          "text": [
            "Model: \"sequential\"\n",
            "_________________________________________________________________\n",
            " Layer (type)                Output Shape              Param #   \n",
            "=================================================================\n",
            " keras_layer (KerasLayer)    (None, 20)                389380    \n",
            "                                                                 \n",
            " dropout (Dropout)           (None, 20)                0         \n",
            "                                                                 \n",
            " dense (Dense)               (None, 30)                630       \n",
            "                                                                 \n",
            " dropout_1 (Dropout)         (None, 30)                0         \n",
            "                                                                 \n",
            " dense_1 (Dense)             (None, 4)                 124       \n",
            "                                                                 \n",
            "=================================================================\n",
            "Total params: 390,134\n",
            "Trainable params: 390,134\n",
            "Non-trainable params: 0\n",
            "_________________________________________________________________\n"
          ]
        }
      ]
    },
    {
      "cell_type": "code",
      "source": [
        "epochs = 60\n",
        "\n",
        "# Fit the model using the train and test datasets.\n",
        "#epoch : when the learning model tries to fit the data on the entire data you call it as an epoch. when we want to do it 60 times we put epoch as 60 \n",
        "history1 = model1.fit(train_ds.shuffle(1000).batch(32),\n",
        "                    epochs= epochs ,\n",
        "                    validation_data=valid_ds.batch(32),\n",
        "                    verbose=1)"
      ],
      "metadata": {
        "colab": {
          "base_uri": "https://localhost:8080/"
        },
        "id": "EEVLD87CSuR_",
        "outputId": "d9c3ad24-0238-4d7e-9d9f-244450062f8c"
      },
      "execution_count": 20,
      "outputs": [
        {
          "output_type": "stream",
          "name": "stdout",
          "text": [
            "Epoch 1/60\n"
          ]
        },
        {
          "output_type": "stream",
          "name": "stderr",
          "text": [
            "/usr/local/lib/python3.8/dist-packages/tensorflow/python/util/dispatch.py:1082: UserWarning: \"`categorical_crossentropy` received `from_logits=True`, but the `output` argument was produced by a sigmoid or softmax activation and thus does not represent logits. Was this intended?\"\n",
            "  return dispatch_target(*args, **kwargs)\n"
          ]
        },
        {
          "output_type": "stream",
          "name": "stdout",
          "text": [
            "32/32 [==============================] - 4s 40ms/step - loss: 6.1527 - categorical_accuracy: 0.2571 - val_loss: 3.0955 - val_categorical_accuracy: 0.3420\n",
            "Epoch 2/60\n",
            "32/32 [==============================] - 1s 26ms/step - loss: 4.6423 - categorical_accuracy: 0.2611 - val_loss: 2.7515 - val_categorical_accuracy: 0.3860\n",
            "Epoch 3/60\n",
            "32/32 [==============================] - 0s 15ms/step - loss: 4.0760 - categorical_accuracy: 0.3005 - val_loss: 2.5451 - val_categorical_accuracy: 0.4140\n",
            "Epoch 4/60\n",
            "32/32 [==============================] - 0s 14ms/step - loss: 3.3726 - categorical_accuracy: 0.3369 - val_loss: 2.4106 - val_categorical_accuracy: 0.4520\n",
            "Epoch 5/60\n",
            "32/32 [==============================] - 1s 16ms/step - loss: 3.0586 - categorical_accuracy: 0.3241 - val_loss: 2.3076 - val_categorical_accuracy: 0.4680\n",
            "Epoch 6/60\n",
            "32/32 [==============================] - 0s 14ms/step - loss: 2.8168 - categorical_accuracy: 0.3429 - val_loss: 2.2232 - val_categorical_accuracy: 0.4860\n",
            "Epoch 7/60\n",
            "32/32 [==============================] - 0s 15ms/step - loss: 2.6031 - categorical_accuracy: 0.3389 - val_loss: 2.1532 - val_categorical_accuracy: 0.4860\n",
            "Epoch 8/60\n",
            "32/32 [==============================] - 0s 14ms/step - loss: 2.4251 - categorical_accuracy: 0.3685 - val_loss: 2.0849 - val_categorical_accuracy: 0.5060\n",
            "Epoch 9/60\n",
            "32/32 [==============================] - 0s 14ms/step - loss: 2.3306 - categorical_accuracy: 0.3783 - val_loss: 2.0223 - val_categorical_accuracy: 0.5240\n",
            "Epoch 10/60\n",
            "32/32 [==============================] - 0s 15ms/step - loss: 2.2069 - categorical_accuracy: 0.3872 - val_loss: 1.9623 - val_categorical_accuracy: 0.5300\n",
            "Epoch 11/60\n",
            "32/32 [==============================] - 0s 14ms/step - loss: 2.0862 - categorical_accuracy: 0.4207 - val_loss: 1.8969 - val_categorical_accuracy: 0.5360\n",
            "Epoch 12/60\n",
            "32/32 [==============================] - 0s 14ms/step - loss: 2.0214 - categorical_accuracy: 0.3990 - val_loss: 1.8483 - val_categorical_accuracy: 0.5460\n",
            "Epoch 13/60\n",
            "32/32 [==============================] - 0s 15ms/step - loss: 1.9637 - categorical_accuracy: 0.4039 - val_loss: 1.8029 - val_categorical_accuracy: 0.5500\n",
            "Epoch 14/60\n",
            "32/32 [==============================] - 1s 16ms/step - loss: 1.8737 - categorical_accuracy: 0.4246 - val_loss: 1.7505 - val_categorical_accuracy: 0.5480\n",
            "Epoch 15/60\n",
            "32/32 [==============================] - 0s 15ms/step - loss: 1.8215 - categorical_accuracy: 0.4394 - val_loss: 1.6965 - val_categorical_accuracy: 0.5600\n",
            "Epoch 16/60\n",
            "32/32 [==============================] - 0s 14ms/step - loss: 1.7633 - categorical_accuracy: 0.4197 - val_loss: 1.6438 - val_categorical_accuracy: 0.5680\n",
            "Epoch 17/60\n",
            "32/32 [==============================] - 1s 17ms/step - loss: 1.7080 - categorical_accuracy: 0.4591 - val_loss: 1.5993 - val_categorical_accuracy: 0.5820\n",
            "Epoch 18/60\n",
            "32/32 [==============================] - 0s 14ms/step - loss: 1.6869 - categorical_accuracy: 0.4414 - val_loss: 1.5607 - val_categorical_accuracy: 0.5820\n",
            "Epoch 19/60\n",
            "32/32 [==============================] - 0s 15ms/step - loss: 1.6175 - categorical_accuracy: 0.4778 - val_loss: 1.5211 - val_categorical_accuracy: 0.5840\n",
            "Epoch 20/60\n",
            "32/32 [==============================] - 1s 17ms/step - loss: 1.5611 - categorical_accuracy: 0.4729 - val_loss: 1.4761 - val_categorical_accuracy: 0.5740\n",
            "Epoch 21/60\n",
            "32/32 [==============================] - 0s 14ms/step - loss: 1.5508 - categorical_accuracy: 0.4680 - val_loss: 1.4466 - val_categorical_accuracy: 0.5940\n",
            "Epoch 22/60\n",
            "32/32 [==============================] - 0s 14ms/step - loss: 1.5154 - categorical_accuracy: 0.4690 - val_loss: 1.4127 - val_categorical_accuracy: 0.5980\n",
            "Epoch 23/60\n",
            "32/32 [==============================] - 0s 14ms/step - loss: 1.4657 - categorical_accuracy: 0.4936 - val_loss: 1.3745 - val_categorical_accuracy: 0.5960\n",
            "Epoch 24/60\n",
            "32/32 [==============================] - 0s 14ms/step - loss: 1.4311 - categorical_accuracy: 0.5123 - val_loss: 1.3409 - val_categorical_accuracy: 0.6000\n",
            "Epoch 25/60\n",
            "32/32 [==============================] - 0s 15ms/step - loss: 1.4090 - categorical_accuracy: 0.5064 - val_loss: 1.3147 - val_categorical_accuracy: 0.6200\n",
            "Epoch 26/60\n",
            "32/32 [==============================] - 0s 13ms/step - loss: 1.4133 - categorical_accuracy: 0.5074 - val_loss: 1.2888 - val_categorical_accuracy: 0.6200\n",
            "Epoch 27/60\n",
            "32/32 [==============================] - 0s 13ms/step - loss: 1.3750 - categorical_accuracy: 0.5153 - val_loss: 1.2662 - val_categorical_accuracy: 0.6300\n",
            "Epoch 28/60\n",
            "32/32 [==============================] - 0s 14ms/step - loss: 1.3306 - categorical_accuracy: 0.5488 - val_loss: 1.2366 - val_categorical_accuracy: 0.6400\n",
            "Epoch 29/60\n",
            "32/32 [==============================] - 0s 14ms/step - loss: 1.3184 - categorical_accuracy: 0.5438 - val_loss: 1.2119 - val_categorical_accuracy: 0.6420\n",
            "Epoch 30/60\n",
            "32/32 [==============================] - 0s 14ms/step - loss: 1.2917 - categorical_accuracy: 0.5448 - val_loss: 1.1881 - val_categorical_accuracy: 0.6480\n",
            "Epoch 31/60\n",
            "32/32 [==============================] - 1s 16ms/step - loss: 1.2820 - categorical_accuracy: 0.5517 - val_loss: 1.1661 - val_categorical_accuracy: 0.6460\n",
            "Epoch 32/60\n",
            "32/32 [==============================] - 0s 14ms/step - loss: 1.2411 - categorical_accuracy: 0.5695 - val_loss: 1.1441 - val_categorical_accuracy: 0.6620\n",
            "Epoch 33/60\n",
            "32/32 [==============================] - 1s 16ms/step - loss: 1.2447 - categorical_accuracy: 0.5734 - val_loss: 1.1221 - val_categorical_accuracy: 0.6540\n",
            "Epoch 34/60\n",
            "32/32 [==============================] - 1s 17ms/step - loss: 1.2349 - categorical_accuracy: 0.5773 - val_loss: 1.1114 - val_categorical_accuracy: 0.6660\n",
            "Epoch 35/60\n",
            "32/32 [==============================] - 0s 14ms/step - loss: 1.2223 - categorical_accuracy: 0.5744 - val_loss: 1.0973 - val_categorical_accuracy: 0.6740\n",
            "Epoch 36/60\n",
            "32/32 [==============================] - 0s 14ms/step - loss: 1.1844 - categorical_accuracy: 0.5665 - val_loss: 1.0765 - val_categorical_accuracy: 0.6660\n",
            "Epoch 37/60\n",
            "32/32 [==============================] - 0s 14ms/step - loss: 1.1772 - categorical_accuracy: 0.5882 - val_loss: 1.0633 - val_categorical_accuracy: 0.6800\n",
            "Epoch 38/60\n",
            "32/32 [==============================] - 0s 15ms/step - loss: 1.1925 - categorical_accuracy: 0.5813 - val_loss: 1.0543 - val_categorical_accuracy: 0.6900\n",
            "Epoch 39/60\n",
            "32/32 [==============================] - 0s 14ms/step - loss: 1.1416 - categorical_accuracy: 0.6108 - val_loss: 1.0386 - val_categorical_accuracy: 0.7000\n",
            "Epoch 40/60\n",
            "32/32 [==============================] - 0s 14ms/step - loss: 1.1283 - categorical_accuracy: 0.6128 - val_loss: 1.0266 - val_categorical_accuracy: 0.6960\n",
            "Epoch 41/60\n",
            "32/32 [==============================] - 1s 16ms/step - loss: 1.1279 - categorical_accuracy: 0.6217 - val_loss: 1.0176 - val_categorical_accuracy: 0.7080\n",
            "Epoch 42/60\n",
            "32/32 [==============================] - 0s 14ms/step - loss: 1.1150 - categorical_accuracy: 0.6217 - val_loss: 1.0049 - val_categorical_accuracy: 0.7060\n",
            "Epoch 43/60\n",
            "32/32 [==============================] - 0s 14ms/step - loss: 1.1073 - categorical_accuracy: 0.6118 - val_loss: 0.9913 - val_categorical_accuracy: 0.7220\n",
            "Epoch 44/60\n",
            "32/32 [==============================] - 0s 14ms/step - loss: 1.0998 - categorical_accuracy: 0.6138 - val_loss: 0.9801 - val_categorical_accuracy: 0.7240\n",
            "Epoch 45/60\n",
            "32/32 [==============================] - 0s 14ms/step - loss: 1.0835 - categorical_accuracy: 0.6246 - val_loss: 0.9678 - val_categorical_accuracy: 0.7160\n",
            "Epoch 46/60\n",
            "32/32 [==============================] - 0s 14ms/step - loss: 1.0882 - categorical_accuracy: 0.6266 - val_loss: 0.9614 - val_categorical_accuracy: 0.7180\n",
            "Epoch 47/60\n",
            "32/32 [==============================] - 1s 16ms/step - loss: 1.0457 - categorical_accuracy: 0.6512 - val_loss: 0.9489 - val_categorical_accuracy: 0.7360\n",
            "Epoch 48/60\n",
            "32/32 [==============================] - 0s 13ms/step - loss: 1.0522 - categorical_accuracy: 0.6394 - val_loss: 0.9436 - val_categorical_accuracy: 0.7280\n",
            "Epoch 49/60\n",
            "32/32 [==============================] - 0s 14ms/step - loss: 1.0458 - categorical_accuracy: 0.6552 - val_loss: 0.9357 - val_categorical_accuracy: 0.7480\n",
            "Epoch 50/60\n",
            "32/32 [==============================] - 0s 14ms/step - loss: 1.0347 - categorical_accuracy: 0.6493 - val_loss: 0.9247 - val_categorical_accuracy: 0.7480\n",
            "Epoch 51/60\n",
            "32/32 [==============================] - 0s 14ms/step - loss: 1.0350 - categorical_accuracy: 0.6433 - val_loss: 0.9190 - val_categorical_accuracy: 0.7420\n",
            "Epoch 52/60\n",
            "32/32 [==============================] - 0s 14ms/step - loss: 1.0199 - categorical_accuracy: 0.6631 - val_loss: 0.9090 - val_categorical_accuracy: 0.7460\n",
            "Epoch 53/60\n",
            "32/32 [==============================] - 0s 14ms/step - loss: 1.0045 - categorical_accuracy: 0.6640 - val_loss: 0.8977 - val_categorical_accuracy: 0.7560\n",
            "Epoch 54/60\n",
            "32/32 [==============================] - 0s 15ms/step - loss: 1.0243 - categorical_accuracy: 0.6571 - val_loss: 0.8956 - val_categorical_accuracy: 0.7500\n",
            "Epoch 55/60\n",
            "32/32 [==============================] - 0s 14ms/step - loss: 0.9969 - categorical_accuracy: 0.6522 - val_loss: 0.8895 - val_categorical_accuracy: 0.7520\n",
            "Epoch 56/60\n",
            "32/32 [==============================] - 0s 14ms/step - loss: 1.0080 - categorical_accuracy: 0.6729 - val_loss: 0.8846 - val_categorical_accuracy: 0.7500\n",
            "Epoch 57/60\n",
            "32/32 [==============================] - 0s 14ms/step - loss: 0.9681 - categorical_accuracy: 0.6946 - val_loss: 0.8730 - val_categorical_accuracy: 0.7620\n",
            "Epoch 58/60\n",
            "32/32 [==============================] - 0s 14ms/step - loss: 0.9555 - categorical_accuracy: 0.7064 - val_loss: 0.8688 - val_categorical_accuracy: 0.7600\n",
            "Epoch 59/60\n",
            "32/32 [==============================] - 0s 14ms/step - loss: 0.9575 - categorical_accuracy: 0.6867 - val_loss: 0.8619 - val_categorical_accuracy: 0.7620\n",
            "Epoch 60/60\n",
            "32/32 [==============================] - 0s 14ms/step - loss: 0.9420 - categorical_accuracy: 0.6680 - val_loss: 0.8559 - val_categorical_accuracy: 0.7700\n"
          ]
        }
      ]
    },
    {
      "cell_type": "code",
      "source": [
        "plt.plot(history1.history['loss'], label='training data')\n",
        "plt.plot(history1.history['val_loss'], label='validation data')\n",
        "plt.title('Loss for Text Classification')\n",
        "plt.ylabel('Loss value')\n",
        "plt.xlabel('No. epoch')\n",
        "plt.legend(loc=\"upper left\")\n",
        "plt.show()"
      ],
      "metadata": {
        "colab": {
          "base_uri": "https://localhost:8080/",
          "height": 295
        },
        "id": "GfUHvx2mS-Hr",
        "outputId": "5269769a-37e5-4ca1-f15c-93b50b6384f7"
      },
      "execution_count": 21,
      "outputs": [
        {
          "output_type": "display_data",
          "data": {
            "text/plain": [
              "<Figure size 432x288 with 1 Axes>"
            ],
            "image/png": "[encoded data removed]"
          },
          "metadata": {
            "needs_background": "light"
          }
        }
      ]
    },
    {
      "cell_type": "code",
      "source": [
        "# Evaluate the model on the test data using `evaluate`\n",
        "print(\"Evaluate on test data\")\n",
        "# results = model1.evaluate(x_test, test_labels)\n",
        "# print(\"test loss, test acc:\", results)\n",
        "\n",
        "\n",
        "# Generate predictions (probabilities -- the output of the last layer)\n",
        "# on test  data using `predict`\n",
        "print(\"Generate predictions for all samples\")\n",
        "predictions = model1.predict(x_test)\n",
        "print(predictions)\n",
        "predict_results = predictions.argmax(axis=1)\n"
      ],
      "metadata": {
        "colab": {
          "base_uri": "https://localhost:8080/"
        },
        "id": "uPKROfuFTSKj",
        "outputId": "4cecf1a8-79d6-42af-b3cd-02b8ebf0e490"
      },
      "execution_count": 23,
      "outputs": [
        {
          "output_type": "stream",
          "name": "stdout",
          "text": [
            "Evaluate on test data\n",
            "Generate predictions for all samples\n",
            "48/48 [==============================] - 1s 7ms/step\n",
            "[[0.7410612  0.27061138 0.43982667 0.7013266 ]\n",
            " [0.77730805 0.24611342 0.4238744  0.7281937 ]\n",
            " [0.62648946 0.38134483 0.42566782 0.63038296]\n",
            " ...\n",
            " [0.71426886 0.85416055 0.20371145 0.11528943]\n",
            " [0.6399665  0.6336789  0.3011525  0.3875443 ]\n",
            " [0.6030382  0.8536716  0.21657476 0.22354214]]\n"
          ]
        }
      ]
    },
    {
      "cell_type": "code",
      "source": [
        "# Evaluate the model on the test data using `evaluate`\n",
        "print(\"Evaluate on test data\")\n",
        "results = model1.evaluate(x_test,test_labels)\n",
        "print(\"test loss, test acc:\", results)\n",
        "\n",
        "\n",
        "# Generate predictions (probabilities -- the output of the last layer)\n",
        "# on test  data using `predict`\n",
        "print(\"Generate predictions for all samples\")\n",
        "predictions = model1.predict(x_test)\n",
        "print(predictions)\n",
        "predict_results = predictions.argmax(axis=1)"
      ],
      "metadata": {
        "colab": {
          "base_uri": "https://localhost:8080/"
        },
        "id": "z7ifrEHlTi5u",
        "outputId": "7294fb54-ef53-45f7-b4ce-09fccb8042f3"
      },
      "execution_count": 24,
      "outputs": [
        {
          "output_type": "stream",
          "name": "stdout",
          "text": [
            "Evaluate on test data\n",
            "48/48 [==============================] - 0s 5ms/step - loss: 0.8125 - categorical_accuracy: 0.7749\n",
            "test loss, test acc: [0.8125209212303162, 0.774917483329773]\n",
            "Generate predictions for all samples\n",
            "48/48 [==============================] - 0s 5ms/step\n",
            "[[0.7410612  0.27061138 0.43982667 0.7013266 ]\n",
            " [0.77730805 0.24611342 0.4238744  0.7281937 ]\n",
            " [0.62648946 0.38134483 0.42566782 0.63038296]\n",
            " ...\n",
            " [0.71426886 0.85416055 0.20371145 0.11528943]\n",
            " [0.6399665  0.6336789  0.3011525  0.3875443 ]\n",
            " [0.6030382  0.8536716  0.21657476 0.22354214]]\n"
          ]
        }
      ]
    },
    {
      "cell_type": "code",
      "source": [
        "print(predict_results[:100])"
      ],
      "metadata": {
        "colab": {
          "base_uri": "https://localhost:8080/"
        },
        "id": "lgKT4_eYTpiB",
        "outputId": "633a1f9c-12f1-49df-8fa6-d30069fd9a70"
      },
      "execution_count": 25,
      "outputs": [
        {
          "output_type": "stream",
          "name": "stdout",
          "text": [
            "[0 0 3 0 0 0 3 2 3 3 3 3 3 3 3 3 3 3 3 3 3 3 3 3 3 0 0 3 0 0 3 0 0 0 0 0 0\n",
            " 0 2 2 3 0 1 0 0 3 3 3 0 1 3 3 2 3 0 2 3 2 2 3 3 3 3 0 3 3 2 3 3 0 0 3 3 3\n",
            " 0 3 3 3 3 3 3 3 3 3 3 3 3 3 3 3 3 2 2 3 3 3 2 2 3 2]\n"
          ]
        }
      ]
    },
    {
      "cell_type": "code",
      "source": [
        "df['pred_medical_specialty']= predict_results\n",
        "\n",
        "df['pred_medical_specialty'] = np.where((df.pred_medical_specialty ==  0), ' Cardiovascular / Pulmonary',df.pred_medical_specialty)\n",
        "\n",
        "df['pred_medical_specialty'] = np.where((df.pred_medical_specialty == '1'),' Consult - History and Phy.',df.pred_medical_specialty)\n",
        "df['pred_medical_specialty'] = np.where((df.pred_medical_specialty == '2'),' Orthopedic',df.pred_medical_specialty)\n",
        "df['pred_medical_specialty'] = np.where((df.pred_medical_specialty == '3'),' Radiology',df.pred_medical_specialty)\n"
      ],
      "metadata": {
        "id": "tXfp7jy3NW-M"
      },
      "execution_count": 26,
      "outputs": []
    },
    {
      "cell_type": "code",
      "source": [
        "from sklearn.metrics import classification_report\n",
        "   \n",
        "print(classification_report(df['medical_specialty'],df['pred_medical_specialty']))"
      ],
      "metadata": {
        "colab": {
          "base_uri": "https://localhost:8080/"
        },
        "id": "wgDjB0o5T0q6",
        "outputId": "e01eb414-2065-4f76-c610-cb7e00908fed"
      },
      "execution_count": 27,
      "outputs": [
        {
          "output_type": "stream",
          "name": "stdout",
          "text": [
            "                             precision    recall  f1-score   support\n",
            "\n",
            " Cardiovascular / Pulmonary       0.78      0.67      0.72       371\n",
            " Consult - History and Phy.       0.78      0.94      0.85       516\n",
            "                 Orthopedic       0.82      0.72      0.77       355\n",
            "                  Radiology       0.69      0.68      0.69       273\n",
            "\n",
            "                   accuracy                           0.77      1515\n",
            "                  macro avg       0.77      0.75      0.76      1515\n",
            "               weighted avg       0.78      0.77      0.77      1515\n",
            "\n"
          ]
        }
      ]
    }
  ]
}